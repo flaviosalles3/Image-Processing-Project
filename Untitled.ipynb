{
 "cells": [
  {
   "cell_type": "code",
   "execution_count": 5,
   "metadata": {},
   "outputs": [],
   "source": [
    "import numpy as np\n",
    "import imageio\n",
    "import matplotlib.pyplot as plt\n",
    "from math import ceil, floor"
   ]
  },
  {
   "cell_type": "code",
   "execution_count": 20,
   "metadata": {},
   "outputs": [],
   "source": [
    "def thresholding(f, L):\n",
    "    # create a new image with zeros\n",
    "    f_tr = np.ones(f.shape).astype(np.uint8)\n",
    "    # setting to 1 the pixels above the threshold\n",
    "    f_tr[np.where(f < L)] = 0\n",
    "    return f_tr\n",
    "\n",
    "def find_threshold(f, T, t, delta):\n",
    "    foreground = np.copy(f)\n",
    "    background = np.copy(f)\n",
    "    foreground[np.where(f < T)] = 0\n",
    "    background[np.where(f > T)] = 0\n",
    "    m1 = np.mean(foreground)\n",
    "    m2 = np.mean(background)\n",
    "    t = T\n",
    "    T = (m1 + m2)/2\n",
    "    print(T)\n",
    "    print(t)\n",
    "    if (np.abs(T-t) < delta):\n",
    "        return T\n",
    "    else:\n",
    "        return find_threshold(f, T, t, delta)\n",
    "\n",
    "def normalization(g):\n",
    "    g = (((g - g.min())* 255)/(g.max() - g.min()))\n",
    "    return g"
   ]
  },
  {
   "cell_type": "code",
   "execution_count": 21,
   "metadata": {},
   "outputs": [
    {
     "name": "stdout",
     "output_type": "stream",
     "text": [
      "32.20250701904297\n",
      "64.40501\n",
      "32.202518463134766\n",
      "32.20250701904297\n",
      "32.202518463134766\n"
     ]
    },
    {
     "data": {
      "text/plain": [
       "'\\nimg_o1 = thresholding(image1,T)\\n\\nT = find_threshold(image2, np.mean(image2), 0, 0.1)\\nimg_o2 = thresholding(image2,T)\\n\\nT = find_threshold(image3, np.mean(image3), 0, 0.1)\\nimg_o3 = thresholding(image3,T)\\n\\n\\n\\nplt.figure(figsize=(10,10))\\nplt.subplot(321); plt.imshow(image1, cmap=\"gray\"); plt.axis(\\'off\\'); plt.title(\\'Original Image\\')\\nplt.subplot(322); plt.imshow(img_o1, cmap=\"gray\"); plt.axis(\\'off\\'); plt.title(\\'thresholded image\\')\\nplt.subplot(323); plt.imshow(image2, cmap=\"gray\"); plt.axis(\\'off\\'); plt.title(\\'Original Image\\')\\nplt.subplot(324); plt.imshow(img_o2, cmap=\"gray\"); plt.axis(\\'off\\'); plt.title(\\'thresholded image\\')\\nplt.subplot(325); plt.imshow(image3, cmap=\"gray\"); plt.axis(\\'off\\'); plt.title(\\'Original Image\\')\\nplt.subplot(326); plt.imshow(img_o3, cmap=\"gray\"); plt.axis(\\'off\\'); plt.title(\\'thresholded image\\')'"
      ]
     },
     "execution_count": 21,
     "metadata": {},
     "output_type": "execute_result"
    }
   ],
   "source": [
    "image1 = imageio.imread('Images/Orion/photo1.jpg', as_gray=True)\n",
    "image2 = imageio.imread('Images/photo2.jpg', as_gray=True)\n",
    "image3 = imageio.imread('Images/Cancer/con_CNC_001.png', as_gray=True)\n",
    "\n",
    "T = find_threshold(image1, np.mean(image1), 0, 0.1)\n",
    "print(T)\n",
    "\n",
    "'''\n",
    "img_o1 = thresholding(image1,T)\n",
    "\n",
    "T = find_threshold(image2, np.mean(image2), 0, 0.1)\n",
    "img_o2 = thresholding(image2,T)\n",
    "\n",
    "T = find_threshold(image3, np.mean(image3), 0, 0.1)\n",
    "img_o3 = thresholding(image3,T)\n",
    "\n",
    "\n",
    "\n",
    "plt.figure(figsize=(10,10))\n",
    "plt.subplot(321); plt.imshow(image1, cmap=\"gray\"); plt.axis('off'); plt.title('Original Image')\n",
    "plt.subplot(322); plt.imshow(img_o1, cmap=\"gray\"); plt.axis('off'); plt.title('thresholded image')\n",
    "plt.subplot(323); plt.imshow(image2, cmap=\"gray\"); plt.axis('off'); plt.title('Original Image')\n",
    "plt.subplot(324); plt.imshow(img_o2, cmap=\"gray\"); plt.axis('off'); plt.title('thresholded image')\n",
    "plt.subplot(325); plt.imshow(image3, cmap=\"gray\"); plt.axis('off'); plt.title('Original Image')\n",
    "plt.subplot(326); plt.imshow(img_o3, cmap=\"gray\"); plt.axis('off'); plt.title('thresholded image')'''"
   ]
  },
  {
   "cell_type": "code",
   "execution_count": null,
   "metadata": {},
   "outputs": [],
   "source": []
  }
 ],
 "metadata": {
  "kernelspec": {
   "display_name": "Python 3",
   "language": "python",
   "name": "python3"
  },
  "language_info": {
   "codemirror_mode": {
    "name": "ipython",
    "version": 3
   },
   "file_extension": ".py",
   "mimetype": "text/x-python",
   "name": "python",
   "nbconvert_exporter": "python",
   "pygments_lexer": "ipython3",
   "version": "3.8.3"
  }
 },
 "nbformat": 4,
 "nbformat_minor": 2
}
