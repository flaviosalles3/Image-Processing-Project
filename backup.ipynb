{
 "cells": [
  {
   "cell_type": "code",
   "execution_count": 1,
   "metadata": {},
   "outputs": [],
   "source": [
    "def histogram(A, no_levels):\n",
    "    N, M = A.shape\n",
    "    hist = np.zeros(no_levels).astype(int)\n",
    "\n",
    "    for i in range(no_levels):\n",
    "        pixels_value_i = np.where(A == i)\n",
    "        hist[i] = pixels_value_i[0].shape[0]\n",
    "            \n",
    "    return(hist)\n",
    "\n",
    "\n",
    "def Limit(img):\n",
    "    hist = histogram(img, 256);\n",
    "    n, m = img.shape\n",
    "    size = len(hist)\n",
    "\n",
    "    sum = 0;\n",
    "    for i in range(size):\n",
    "        i += i * hist[i]\n",
    " \n",
    "    numPixels = n * m;\n",
    "    sumB = 0\n",
    "    wB = 0\n",
    "    max = 0.0\n",
    "    threshold1 = 0.0\n",
    "    threshold2 = 0.0;\n",
    "\n",
    "    for i in range(size):\n",
    "        \n",
    "        wB += hist[i]\n",
    "        \n",
    "        if (not wB):\n",
    "            continue\n",
    "            \n",
    "        wF = numPixels - wB\n",
    "        \n",
    "        if (not wF):\n",
    "            break\n",
    "            \n",
    "        sumB += i * hist[i]\n",
    "        \n",
    "        mF = (sum - sumB) / wF\n",
    "        mB = sumB / wB\n",
    "        diff = mB - mF\n",
    "        bw = wB * wF * diff**2\n",
    "        \n",
    "        if (bw >= max):\n",
    "            threshold1 = i\n",
    "            if (bw > max):\n",
    "                threshold2 = i\n",
    "            max = bw\n",
    "                   \n",
    "        th = (threshold1 + threshold2) / 2.0\n",
    "              \n",
    "    return th"
   ]
  },
  {
   "cell_type": "code",
   "execution_count": null,
   "metadata": {},
   "outputs": [],
   "source": []
  }
 ],
 "metadata": {
  "kernelspec": {
   "display_name": "Python 3",
   "language": "python",
   "name": "python3"
  },
  "language_info": {
   "codemirror_mode": {
    "name": "ipython",
    "version": 3
   },
   "file_extension": ".py",
   "mimetype": "text/x-python",
   "name": "python",
   "nbconvert_exporter": "python",
   "pygments_lexer": "ipython3",
   "version": "3.8.3"
  }
 },
 "nbformat": 4,
 "nbformat_minor": 4
}
